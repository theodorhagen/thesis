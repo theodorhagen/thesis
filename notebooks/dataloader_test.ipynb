{
 "cells": [
  {
   "cell_type": "code",
   "execution_count": 1,
   "id": "124e1057",
   "metadata": {},
   "outputs": [],
   "source": [
    "from torch.utils.data import DataLoader\n",
    "import sys\n",
    "import os\n",
    "sys.path.append(os.path.abspath(\"..\"))\n",
    "from src.dataset import BigEarthNetDataset\n",
    "\n",
    "dataset = BigEarthNetDataset(\n",
    "    parquet_path=\"../patchlists/patches_summer_subset.parquet\",\n",
    "    root_dir=\"../../data/\",\n",
    ")\n",
    "\n",
    "dataloader = DataLoader(dataset, batch_size=4, shuffle=True)\n"
   ]
  },
  {
   "cell_type": "code",
   "execution_count": null,
   "id": "7f1bbd1d",
   "metadata": {},
   "outputs": [
    {
     "name": "stdout",
     "output_type": "stream",
     "text": [
      "Images batch shape: torch.Size([4, 12, 128, 128])\n",
      "Labels batch shape: torch.Size([4, 19])\n",
      "Labels eines Beispiels: tensor([0., 1., 0., 0., 0., 1., 0., 0., 0., 0., 0., 0., 1., 0., 0., 1., 0., 0.,\n",
      "        1.])\n"
     ]
    }
   ],
   "source": [
    "for images, labels in dataloader:\n",
    "    print(\"Images batch shape:\", images.shape)   \n",
    "    print(\"Labels batch shape:\", labels.shape)   \n",
    "    print(\"Multi-Hot-Vector example:\", labels[0])\n",
    "    break\n"
   ]
  }
 ],
 "metadata": {
  "kernelspec": {
   "display_name": "Python 3",
   "language": "python",
   "name": "python3"
  },
  "language_info": {
   "codemirror_mode": {
    "name": "ipython",
    "version": 3
   },
   "file_extension": ".py",
   "mimetype": "text/x-python",
   "name": "python",
   "nbconvert_exporter": "python",
   "pygments_lexer": "ipython3",
   "version": "3.9.19"
  }
 },
 "nbformat": 4,
 "nbformat_minor": 5
}
