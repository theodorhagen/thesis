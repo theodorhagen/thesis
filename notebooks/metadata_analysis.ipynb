{
 "cells": [
  {
   "cell_type": "code",
   "execution_count": 1,
   "id": "22d8e5f0",
   "metadata": {},
   "outputs": [
    {
     "data": {
      "text/html": [
       "<div>\n",
       "<style scoped>\n",
       "    .dataframe tbody tr th:only-of-type {\n",
       "        vertical-align: middle;\n",
       "    }\n",
       "\n",
       "    .dataframe tbody tr th {\n",
       "        vertical-align: top;\n",
       "    }\n",
       "\n",
       "    .dataframe thead th {\n",
       "        text-align: right;\n",
       "    }\n",
       "</style>\n",
       "<table border=\"1\" class=\"dataframe\">\n",
       "  <thead>\n",
       "    <tr style=\"text-align: right;\">\n",
       "      <th></th>\n",
       "      <th>patch_id</th>\n",
       "      <th>labels</th>\n",
       "      <th>split</th>\n",
       "      <th>country</th>\n",
       "      <th>s1_name</th>\n",
       "      <th>s2v1_name</th>\n",
       "      <th>contains_seasonal_snow</th>\n",
       "      <th>contains_cloud_or_shadow</th>\n",
       "    </tr>\n",
       "  </thead>\n",
       "  <tbody>\n",
       "    <tr>\n",
       "      <th>0</th>\n",
       "      <td>S2A_MSIL2A_20170613T101031_N9999_R022_T33UUP_2...</td>\n",
       "      <td>[Arable land, Broad-leaved forest, Mixed fores...</td>\n",
       "      <td>test</td>\n",
       "      <td>Austria</td>\n",
       "      <td>S1B_IW_GRDH_1SDV_20170612T165809_33UUP_26_57</td>\n",
       "      <td>S2A_MSIL2A_20170613T101031_26_57</td>\n",
       "      <td>False</td>\n",
       "      <td>False</td>\n",
       "    </tr>\n",
       "    <tr>\n",
       "      <th>1</th>\n",
       "      <td>S2A_MSIL2A_20170613T101031_N9999_R022_T33UUP_2...</td>\n",
       "      <td>[Arable land, Broad-leaved forest, Inland wate...</td>\n",
       "      <td>test</td>\n",
       "      <td>Austria</td>\n",
       "      <td>S1B_IW_GRDH_1SDV_20170612T165809_33UUP_27_55</td>\n",
       "      <td>S2A_MSIL2A_20170613T101031_27_55</td>\n",
       "      <td>False</td>\n",
       "      <td>False</td>\n",
       "    </tr>\n",
       "    <tr>\n",
       "      <th>2</th>\n",
       "      <td>S2A_MSIL2A_20170613T101031_N9999_R022_T33UUP_2...</td>\n",
       "      <td>[Arable land, Broad-leaved forest, Coniferous ...</td>\n",
       "      <td>test</td>\n",
       "      <td>Austria</td>\n",
       "      <td>S1B_IW_GRDH_1SDV_20170612T165809_33UUP_27_56</td>\n",
       "      <td>S2A_MSIL2A_20170613T101031_27_56</td>\n",
       "      <td>False</td>\n",
       "      <td>False</td>\n",
       "    </tr>\n",
       "    <tr>\n",
       "      <th>3</th>\n",
       "      <td>S2A_MSIL2A_20170613T101031_N9999_R022_T33UUP_2...</td>\n",
       "      <td>[Broad-leaved forest, Complex cultivation patt...</td>\n",
       "      <td>test</td>\n",
       "      <td>Austria</td>\n",
       "      <td>S1B_IW_GRDH_1SDV_20170612T165809_33UUP_27_57</td>\n",
       "      <td>S2A_MSIL2A_20170613T101031_27_57</td>\n",
       "      <td>False</td>\n",
       "      <td>False</td>\n",
       "    </tr>\n",
       "    <tr>\n",
       "      <th>4</th>\n",
       "      <td>S2A_MSIL2A_20170613T101031_N9999_R022_T33UUP_2...</td>\n",
       "      <td>[Broad-leaved forest, Complex cultivation patt...</td>\n",
       "      <td>test</td>\n",
       "      <td>Austria</td>\n",
       "      <td>S1B_IW_GRDH_1SDV_20170612T165809_33UUP_27_58</td>\n",
       "      <td>S2A_MSIL2A_20170613T101031_27_58</td>\n",
       "      <td>False</td>\n",
       "      <td>False</td>\n",
       "    </tr>\n",
       "  </tbody>\n",
       "</table>\n",
       "</div>"
      ],
      "text/plain": [
       "                                            patch_id  \\\n",
       "0  S2A_MSIL2A_20170613T101031_N9999_R022_T33UUP_2...   \n",
       "1  S2A_MSIL2A_20170613T101031_N9999_R022_T33UUP_2...   \n",
       "2  S2A_MSIL2A_20170613T101031_N9999_R022_T33UUP_2...   \n",
       "3  S2A_MSIL2A_20170613T101031_N9999_R022_T33UUP_2...   \n",
       "4  S2A_MSIL2A_20170613T101031_N9999_R022_T33UUP_2...   \n",
       "\n",
       "                                              labels split  country  \\\n",
       "0  [Arable land, Broad-leaved forest, Mixed fores...  test  Austria   \n",
       "1  [Arable land, Broad-leaved forest, Inland wate...  test  Austria   \n",
       "2  [Arable land, Broad-leaved forest, Coniferous ...  test  Austria   \n",
       "3  [Broad-leaved forest, Complex cultivation patt...  test  Austria   \n",
       "4  [Broad-leaved forest, Complex cultivation patt...  test  Austria   \n",
       "\n",
       "                                        s1_name  \\\n",
       "0  S1B_IW_GRDH_1SDV_20170612T165809_33UUP_26_57   \n",
       "1  S1B_IW_GRDH_1SDV_20170612T165809_33UUP_27_55   \n",
       "2  S1B_IW_GRDH_1SDV_20170612T165809_33UUP_27_56   \n",
       "3  S1B_IW_GRDH_1SDV_20170612T165809_33UUP_27_57   \n",
       "4  S1B_IW_GRDH_1SDV_20170612T165809_33UUP_27_58   \n",
       "\n",
       "                          s2v1_name  contains_seasonal_snow  \\\n",
       "0  S2A_MSIL2A_20170613T101031_26_57                   False   \n",
       "1  S2A_MSIL2A_20170613T101031_27_55                   False   \n",
       "2  S2A_MSIL2A_20170613T101031_27_56                   False   \n",
       "3  S2A_MSIL2A_20170613T101031_27_57                   False   \n",
       "4  S2A_MSIL2A_20170613T101031_27_58                   False   \n",
       "\n",
       "   contains_cloud_or_shadow  \n",
       "0                     False  \n",
       "1                     False  \n",
       "2                     False  \n",
       "3                     False  \n",
       "4                     False  "
      ]
     },
     "metadata": {},
     "output_type": "display_data"
    },
    {
     "name": "stdout",
     "output_type": "stream",
     "text": [
      "Index(['patch_id', 'labels', 'split', 'country', 's1_name', 's2v1_name',\n",
      "       'contains_seasonal_snow', 'contains_cloud_or_shadow'],\n",
      "      dtype='object')\n",
      "(480038, 8)\n"
     ]
    }
   ],
   "source": [
    "import pandas as pd\n",
    "\n",
    "meta = pd.read_parquet('../../data/metadata.parquet')\n",
    "display(meta.head())\n",
    "print(meta.columns)\n",
    "print(meta.shape)\n"
   ]
  },
  {
   "cell_type": "code",
   "execution_count": 2,
   "id": "ffd7baf9",
   "metadata": {},
   "outputs": [
    {
     "data": {
      "text/html": [
       "<div>\n",
       "<style scoped>\n",
       "    .dataframe tbody tr th:only-of-type {\n",
       "        vertical-align: middle;\n",
       "    }\n",
       "\n",
       "    .dataframe tbody tr th {\n",
       "        vertical-align: top;\n",
       "    }\n",
       "\n",
       "    .dataframe thead th {\n",
       "        text-align: right;\n",
       "    }\n",
       "</style>\n",
       "<table border=\"1\" class=\"dataframe\">\n",
       "  <thead>\n",
       "    <tr style=\"text-align: right;\">\n",
       "      <th></th>\n",
       "      <th>patch_id</th>\n",
       "      <th>labels</th>\n",
       "      <th>split</th>\n",
       "      <th>country</th>\n",
       "      <th>s1_name</th>\n",
       "      <th>s2v1_name</th>\n",
       "      <th>contains_seasonal_snow</th>\n",
       "      <th>contains_cloud_or_shadow</th>\n",
       "    </tr>\n",
       "  </thead>\n",
       "  <tbody>\n",
       "    <tr>\n",
       "      <th>0</th>\n",
       "      <td>S2A_MSIL2A_20170613T101031_N9999_R022_T33UUP_2...</td>\n",
       "      <td>[Arable land, Broad-leaved forest, Mixed fores...</td>\n",
       "      <td>test</td>\n",
       "      <td>Austria</td>\n",
       "      <td>S1B_IW_GRDH_1SDV_20170612T165809_33UUP_26_57</td>\n",
       "      <td>S2A_MSIL2A_20170613T101031_26_57</td>\n",
       "      <td>False</td>\n",
       "      <td>False</td>\n",
       "    </tr>\n",
       "  </tbody>\n",
       "</table>\n",
       "</div>"
      ],
      "text/plain": [
       "                                            patch_id  \\\n",
       "0  S2A_MSIL2A_20170613T101031_N9999_R022_T33UUP_2...   \n",
       "\n",
       "                                              labels split  country  \\\n",
       "0  [Arable land, Broad-leaved forest, Mixed fores...  test  Austria   \n",
       "\n",
       "                                        s1_name  \\\n",
       "0  S1B_IW_GRDH_1SDV_20170612T165809_33UUP_26_57   \n",
       "\n",
       "                          s2v1_name  contains_seasonal_snow  \\\n",
       "0  S2A_MSIL2A_20170613T101031_26_57                   False   \n",
       "\n",
       "   contains_cloud_or_shadow  \n",
       "0                     False  "
      ]
     },
     "metadata": {},
     "output_type": "display_data"
    },
    {
     "data": {
      "text/plain": [
       "str"
      ]
     },
     "metadata": {},
     "output_type": "display_data"
    }
   ],
   "source": [
    "display(meta.head(1))\n",
    "display(type(meta['patch_id'][0]))"
   ]
  },
  {
   "cell_type": "code",
   "execution_count": 3,
   "id": "85a80815",
   "metadata": {},
   "outputs": [
    {
     "data": {
      "text/plain": [
       "'S2A_MSIL2A_20171221T112501_N9999_R037_T29SND_39_18'"
      ]
     },
     "metadata": {},
     "output_type": "display_data"
    }
   ],
   "source": [
    "display(meta['patch_id'][130000])"
   ]
  },
  {
   "cell_type": "code",
   "execution_count": 4,
   "id": "ff80c858",
   "metadata": {},
   "outputs": [],
   "source": [
    "def patch_to_season(patch_id):\n",
    "    \"\"\"\n",
    "    Defines the season for a given Sentinel-Patch using the corresponding Patch-ID.\n",
    "\n",
    "    Args:\n",
    "        patch_id (str): The Patch-ID with format '..._YYYYMMDD_...'.\n",
    "\n",
    "    Returns:\n",
    "        str: The season that corresponds to the month on the Patch-ID string.\n",
    "    \"\"\"\n",
    "    date_str = patch_id.split('_')[2]\n",
    "    month = int(date_str[4:6])\n",
    "    \n",
    "    if month in [12, 1, 2]:\n",
    "        return 'winter'\n",
    "    elif month in [3, 4, 5]:\n",
    "        return 'spring'\n",
    "    elif month in [6, 7, 8]:\n",
    "        return 'summer'\n",
    "    else:\n",
    "        return 'fall'\n",
    "\n",
    "meta['season'] = meta['patch_id'].apply(patch_to_season)"
   ]
  },
  {
   "cell_type": "code",
   "execution_count": 5,
   "id": "49334520",
   "metadata": {},
   "outputs": [
    {
     "data": {
      "text/plain": [
       "season\n",
       "spring    165098\n",
       "fall      140733\n",
       "summer    102397\n",
       "winter     71810\n",
       "Name: count, dtype: int64"
      ]
     },
     "execution_count": 5,
     "metadata": {},
     "output_type": "execute_result"
    }
   ],
   "source": [
    "meta['season'].value_counts()"
   ]
  },
  {
   "cell_type": "code",
   "execution_count": 6,
   "id": "72dd46b5",
   "metadata": {},
   "outputs": [
    {
     "data": {
      "text/plain": [
       "contains_cloud_or_shadow\n",
       "False    480038\n",
       "Name: count, dtype: int64"
      ]
     },
     "execution_count": 6,
     "metadata": {},
     "output_type": "execute_result"
    }
   ],
   "source": [
    "meta['contains_cloud_or_shadow'].value_counts()"
   ]
  },
  {
   "cell_type": "code",
   "execution_count": 7,
   "id": "895db5f5",
   "metadata": {},
   "outputs": [],
   "source": [
    "winter = meta[meta['season'] == 'winter']\n",
    "spring = meta[meta['season'] == 'spring']\n",
    "summer = meta[meta['season'] == 'summer']\n",
    "fall = meta[meta['season'] == 'fall']"
   ]
  },
  {
   "cell_type": "code",
   "execution_count": 8,
   "id": "b0aa74a7",
   "metadata": {},
   "outputs": [],
   "source": [
    "for season, df in zip(['winter', 'spring', 'summer', 'fall'], [winter, spring, summer, fall]):\n",
    "    df.to_csv(f'../patchlists/patches_{season}.csv', index=False)\n"
   ]
  },
  {
   "cell_type": "code",
   "execution_count": 11,
   "id": "8a50d7bf",
   "metadata": {},
   "outputs": [
    {
     "data": {
      "text/plain": [
       "numpy.ndarray"
      ]
     },
     "metadata": {},
     "output_type": "display_data"
    }
   ],
   "source": [
    "display(type(meta['labels'][0]))"
   ]
  },
  {
   "cell_type": "code",
   "execution_count": 12,
   "id": "28646158",
   "metadata": {},
   "outputs": [],
   "source": [
    "all_labels = meta['labels'].explode()"
   ]
  },
  {
   "cell_type": "code",
   "execution_count": null,
   "id": "829e0001",
   "metadata": {},
   "outputs": [
    {
     "name": "stdout",
     "output_type": "stream",
     "text": [
      "{'Permanent crops', 'Complex cultivation patterns', 'Marine waters', 'Natural grassland and sparsely vegetated areas', 'Moors, heathland and sclerophyllous vegetation', 'Mixed forest', 'Coastal wetlands', 'Industrial or commercial units', 'Urban fabric', 'Arable land', 'Land principally occupied by agriculture, with significant areas of natural vegetation', 'Agro-forestry areas', 'Broad-leaved forest', 'Inland waters', 'Coniferous forest', 'Transitional woodland, shrub', 'Beaches, dunes, sands', 'Pastures', 'Inland wetlands'}\n"
     ]
    }
   ],
   "source": [
    "print(set(all_labels))"
   ]
  },
  {
   "cell_type": "code",
   "execution_count": null,
   "id": "c52345ac",
   "metadata": {},
   "outputs": [],
   "source": []
  }
 ],
 "metadata": {
  "kernelspec": {
   "display_name": "Python 3",
   "language": "python",
   "name": "python3"
  },
  "language_info": {
   "codemirror_mode": {
    "name": "ipython",
    "version": 3
   },
   "file_extension": ".py",
   "mimetype": "text/x-python",
   "name": "python",
   "nbconvert_exporter": "python",
   "pygments_lexer": "ipython3",
   "version": "3.9.23"
  }
 },
 "nbformat": 4,
 "nbformat_minor": 5
}
